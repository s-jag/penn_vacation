{
  "cells": [
    {
      "cell_type": "markdown",
      "source": [
        "# **Vacation Planner Data Preprocessing**"
      ],
      "metadata": {
        "id": "5uao7drowfQ5"
      }
    },
    {
      "cell_type": "markdown",
      "source": [
        "# Setup"
      ],
      "metadata": {
        "id": "ZX3EOC8Iw00B"
      }
    },
    {
      "cell_type": "markdown",
      "source": [
        "First, we are going to install any libraries we will need in our preprocessing."
      ],
      "metadata": {
        "id": "VSHLccXcw28Z"
      }
    },
    {
      "cell_type": "code",
      "source": [
        "import pandas as pd\n",
        "import zipfile\n",
        "from google.colab import drive"
      ],
      "metadata": {
        "id": "68ZMU4Smw2tm"
      },
      "execution_count": 1,
      "outputs": []
    },
    {
      "cell_type": "markdown",
      "source": [
        "Now, we are going to mount our drive where the downloaded files are stored."
      ],
      "metadata": {
        "id": "0fxCK9BMzlU6"
      }
    },
    {
      "cell_type": "code",
      "source": [
        "drive.mount('/content/drive')"
      ],
      "metadata": {
        "colab": {
          "base_uri": "https://localhost:8080/"
        },
        "id": "IEmpS6Suzk4L",
        "outputId": "5814936d-e75b-4dc4-ec7c-fc13f50593ee"
      },
      "execution_count": 2,
      "outputs": [
        {
          "output_type": "stream",
          "name": "stdout",
          "text": [
            "Mounted at /content/drive\n"
          ]
        }
      ]
    },
    {
      "cell_type": "markdown",
      "metadata": {
        "id": "TQtqMrhk9aE7"
      },
      "source": [
        "# Preprocessing of Flights"
      ]
    },
    {
      "cell_type": "markdown",
      "metadata": {
        "id": "QwsoYGBF9aE9"
      },
      "source": [
        "Firstly, we will perform preprocessing on our flights dataset. This one is by far the largest, and because of Datagrip/AWS's limitations, cannot be imported into the database in its current state. We will have to filter it down and reduce its size to make it appropriate for importing.\n",
        "\n",
        "We will start by importing and extracting the zip file containing the csv files of the data, which is divided into 4 quarters."
      ]
    },
    {
      "cell_type": "code",
      "source": [
        "# Quarter 1\n",
        "zip_path = '/content/drive/My Drive/Origin_and_Destination_Survey_DB1BMarket_2022_1.zip'\n",
        "\n",
        "with zipfile.ZipFile(zip_path, 'r') as zip_ref:\n",
        "    zip_ref.extractall('/content/')"
      ],
      "metadata": {
        "id": "E4t-tdIUAuGR"
      },
      "execution_count": 3,
      "outputs": []
    },
    {
      "cell_type": "code",
      "source": [
        "# Quarter 2\n",
        "zip_path = '/content/drive/My Drive/Origin_and_Destination_Survey_DB1BMarket_2022_2.zip'\n",
        "\n",
        "with zipfile.ZipFile(zip_path, 'r') as zip_ref:\n",
        "    zip_ref.extractall('/content/')"
      ],
      "metadata": {
        "id": "KNr61PG6AxoF"
      },
      "execution_count": 4,
      "outputs": []
    },
    {
      "cell_type": "code",
      "source": [
        "# Quarter 3\n",
        "zip_path = '/content/drive/My Drive/Origin_and_Destination_Survey_DB1BMarket_2022_3.zip'\n",
        "\n",
        "with zipfile.ZipFile(zip_path, 'r') as zip_ref:\n",
        "    zip_ref.extractall('/content/')"
      ],
      "metadata": {
        "id": "6M1_ZAIjAyC6"
      },
      "execution_count": 5,
      "outputs": []
    },
    {
      "cell_type": "code",
      "source": [
        "# Quarter 4\n",
        "zip_path = '/content/drive/My Drive/Origin_and_Destination_Survey_DB1BMarket_2022_4.zip'\n",
        "\n",
        "with zipfile.ZipFile(zip_path, 'r') as zip_ref:\n",
        "    zip_ref.extractall('/content/')"
      ],
      "metadata": {
        "id": "yTratIJ_AyXg"
      },
      "execution_count": 6,
      "outputs": []
    },
    {
      "cell_type": "markdown",
      "source": [
        "Now, we have to read the csv files from each of them, while also dropping columns while we do it, so that we do not use all of our available ram."
      ],
      "metadata": {
        "id": "kYsu58A10SuB"
      }
    },
    {
      "cell_type": "code",
      "source": [
        "to_drop = ['AirportGroup', 'WacGroup', 'TkCarrierChange', 'TkCarrierGroup',\n",
        "           'OpCarrierChange', 'OpCarrierGroup', 'RPCarrier', 'TkCarrier',\n",
        "           'OpCarrier', 'OriginAirportID', 'OriginAirportSeqID',\n",
        "           'OriginCityMarketID', 'OriginCountry', 'OriginStateFips',\n",
        "           'OriginState', 'OriginStateName', 'OriginWac', 'DestAirportID',\n",
        "           'DestAirportSeqID', 'DestCityMarketID', 'DestCountry',\n",
        "           'DestStateFips', 'DestState', 'DestStateName','DestWac', 'ItinID',\n",
        "           'MktID', 'MktCoupons', 'Year', 'BulkFare', 'Passengers',\n",
        "           'MktDistanceGroup', 'MktMilesFlown', 'NonStopMiles', 'ItinGeoType',\n",
        "           'MktGeoType']"
      ],
      "metadata": {
        "id": "9ViZm3GGBu5r"
      },
      "execution_count": 7,
      "outputs": []
    },
    {
      "cell_type": "code",
      "source": [
        "flights_q1_df = pd.read_csv('Origin_and_Destination_Survey_DB1BMarket_2022_1.csv')"
      ],
      "metadata": {
        "id": "NqG8mHFlA88X"
      },
      "execution_count": 8,
      "outputs": []
    },
    {
      "cell_type": "code",
      "source": [
        "flights_q1_df = flights_q1_df.drop(columns=to_drop)"
      ],
      "metadata": {
        "id": "1UhM_coBCLW_"
      },
      "execution_count": 9,
      "outputs": []
    },
    {
      "cell_type": "code",
      "source": [
        "flights_q1_df.info()"
      ],
      "metadata": {
        "colab": {
          "base_uri": "https://localhost:8080/"
        },
        "id": "SLCmCGNkCkzU",
        "outputId": "3227ece3-7188-4811-9130-c7b2e3b39536"
      },
      "execution_count": 10,
      "outputs": [
        {
          "output_type": "stream",
          "name": "stdout",
          "text": [
            "<class 'pandas.core.frame.DataFrame'>\n",
            "RangeIndex: 6078763 entries, 0 to 6078762\n",
            "Data columns (total 6 columns):\n",
            " #   Column       Dtype  \n",
            "---  ------       -----  \n",
            " 0   Quarter      int64  \n",
            " 1   Origin       object \n",
            " 2   Dest         object \n",
            " 3   MktFare      float64\n",
            " 4   MktDistance  float64\n",
            " 5   Unnamed: 41  float64\n",
            "dtypes: float64(3), int64(1), object(2)\n",
            "memory usage: 278.3+ MB\n"
          ]
        }
      ]
    },
    {
      "cell_type": "markdown",
      "source": [
        "We can see the memory usage goes down to 278.3+ MB, which is manageable, so we will do this for the other three quarters."
      ],
      "metadata": {
        "id": "DVvkanfUdXMt"
      }
    },
    {
      "cell_type": "code",
      "source": [
        "flights_q2_df = pd.read_csv('Origin_and_Destination_Survey_DB1BMarket_2022_2.csv')"
      ],
      "metadata": {
        "id": "dpHNrEvmBAb3"
      },
      "execution_count": 11,
      "outputs": []
    },
    {
      "cell_type": "code",
      "source": [
        "flights_q2_df = flights_q2_df.drop(columns=to_drop)"
      ],
      "metadata": {
        "id": "waMbLozcCN0R"
      },
      "execution_count": 12,
      "outputs": []
    },
    {
      "cell_type": "code",
      "source": [
        "flights_q3_df = pd.read_csv('Origin_and_Destination_Survey_DB1BMarket_2022_3.csv')"
      ],
      "metadata": {
        "id": "lGJWfNd8BApS"
      },
      "execution_count": 13,
      "outputs": []
    },
    {
      "cell_type": "code",
      "source": [
        "flights_q3_df = flights_q3_df.drop(columns=to_drop)"
      ],
      "metadata": {
        "id": "Y8D9q_UvCOJK"
      },
      "execution_count": 14,
      "outputs": []
    },
    {
      "cell_type": "code",
      "source": [
        "flights_q4_df = pd.read_csv('Origin_and_Destination_Survey_DB1BMarket_2022_4.csv')"
      ],
      "metadata": {
        "id": "fX6DGGVFBA11"
      },
      "execution_count": 15,
      "outputs": []
    },
    {
      "cell_type": "code",
      "source": [
        "flights_q4_df = flights_q4_df.drop(columns=to_drop)"
      ],
      "metadata": {
        "id": "JJjXX_CgCQd0"
      },
      "execution_count": 16,
      "outputs": []
    },
    {
      "cell_type": "markdown",
      "source": [
        "Let's drop the unnamed column, which is there likely as a result of some error when parsing the csv."
      ],
      "metadata": {
        "id": "M2aBpTu_0VJz"
      }
    },
    {
      "cell_type": "code",
      "source": [
        "flights_q1_df = flights_q1_df[['Quarter', 'Origin', 'Dest', 'MktFare', 'MktDistance']]"
      ],
      "metadata": {
        "id": "BXJSpYdbEJ6q"
      },
      "execution_count": 17,
      "outputs": []
    },
    {
      "cell_type": "code",
      "source": [
        "flights_q2_df = flights_q2_df[['Quarter', 'Origin', 'Dest', 'MktFare', 'MktDistance']]"
      ],
      "metadata": {
        "id": "OAct3BneEYHv"
      },
      "execution_count": 18,
      "outputs": []
    },
    {
      "cell_type": "code",
      "source": [
        "flights_q3_df = flights_q3_df[['Quarter', 'Origin', 'Dest', 'MktFare', 'MktDistance']]"
      ],
      "metadata": {
        "id": "Tc-pstx0EX-s"
      },
      "execution_count": 19,
      "outputs": []
    },
    {
      "cell_type": "code",
      "source": [
        "flights_q4_df = flights_q4_df[['Quarter', 'Origin', 'Dest', 'MktFare', 'MktDistance']]"
      ],
      "metadata": {
        "id": "vrZd3bBmEXp5"
      },
      "execution_count": 20,
      "outputs": []
    },
    {
      "cell_type": "markdown",
      "source": [
        "Now, we can merge all of the different dataframes together into one which we will use for out database."
      ],
      "metadata": {
        "id": "Adln2W7-0aqy"
      }
    },
    {
      "cell_type": "code",
      "source": [
        "flights_df = pd.concat([flights_q1_df, flights_q2_df, flights_q3_df, flights_q4_df], axis=0, ignore_index=True)"
      ],
      "metadata": {
        "id": "Jxp5oyS0dqqd"
      },
      "execution_count": 21,
      "outputs": []
    },
    {
      "cell_type": "markdown",
      "source": [
        "Now let's display the dataframe info and see the new memory usage:"
      ],
      "metadata": {
        "id": "GAaXfZHO2HFG"
      }
    },
    {
      "cell_type": "code",
      "source": [
        "flights_df.info()"
      ],
      "metadata": {
        "colab": {
          "base_uri": "https://localhost:8080/"
        },
        "id": "_fXiiZKl1JqH",
        "outputId": "17283e10-8b8d-4d29-f3a7-dadea6f0bb3b"
      },
      "execution_count": 22,
      "outputs": [
        {
          "output_type": "stream",
          "name": "stdout",
          "text": [
            "<class 'pandas.core.frame.DataFrame'>\n",
            "RangeIndex: 27857794 entries, 0 to 27857793\n",
            "Data columns (total 5 columns):\n",
            " #   Column       Dtype  \n",
            "---  ------       -----  \n",
            " 0   Quarter      int64  \n",
            " 1   Origin       object \n",
            " 2   Dest         object \n",
            " 3   MktFare      float64\n",
            " 4   MktDistance  float64\n",
            "dtypes: float64(2), int64(1), object(2)\n",
            "memory usage: 1.0+ GB\n"
          ]
        }
      ]
    },
    {
      "cell_type": "markdown",
      "source": [
        "We can see that the memory usage is manageable at 1.0 GB, and we can turn it into a csv file which we will use in our database."
      ],
      "metadata": {
        "id": "gHk4-f1T324U"
      }
    },
    {
      "cell_type": "code",
      "source": [
        "flights_df.to_csv('flights_raw.csv', index=False)"
      ],
      "metadata": {
        "id": "hms77noZ3zh9"
      },
      "execution_count": 23,
      "outputs": []
    },
    {
      "cell_type": "markdown",
      "source": [
        "We now want to see if there's more details or optimizations we could gain from this dataframe. First, we'll group by origin and dest, and then take the median fare as the fare column and median distance as the distnace column."
      ],
      "metadata": {
        "id": "mYDH41hq4PHA"
      }
    },
    {
      "cell_type": "code",
      "source": [
        "flights_grouped = flights_df.groupby(['Origin', 'Dest', 'Quarter']).agg({'MktDistance': 'median', 'MktFare': 'median'}).reset_index()\n",
        "\n",
        "flights_grouped.info()"
      ],
      "metadata": {
        "colab": {
          "base_uri": "https://localhost:8080/"
        },
        "id": "PX4-8rIg4LeX",
        "outputId": "1d576593-9236-4416-a641-32db332cefce"
      },
      "execution_count": 24,
      "outputs": [
        {
          "output_type": "stream",
          "name": "stdout",
          "text": [
            "<class 'pandas.core.frame.DataFrame'>\n",
            "RangeIndex: 269535 entries, 0 to 269534\n",
            "Data columns (total 5 columns):\n",
            " #   Column       Non-Null Count   Dtype  \n",
            "---  ------       --------------   -----  \n",
            " 0   Origin       269535 non-null  object \n",
            " 1   Dest         269535 non-null  object \n",
            " 2   Quarter      269535 non-null  int64  \n",
            " 3   MktDistance  269535 non-null  float64\n",
            " 4   MktFare      269535 non-null  float64\n",
            "dtypes: float64(2), int64(1), object(2)\n",
            "memory usage: 10.3+ MB\n"
          ]
        }
      ]
    },
    {
      "cell_type": "markdown",
      "source": [
        "We can see that the memory usage is now 10.3+ MB, which is around 100x lower than what it was before grouping. This optimization will make our queries significantly quicker allowing our queries and database to run much quicker."
      ],
      "metadata": {
        "id": "JJPZ5HcSCzMJ"
      }
    },
    {
      "cell_type": "code",
      "source": [
        "flights_grouped.to_csv('flights_grouped.csv', index=False)"
      ],
      "metadata": {
        "id": "VKHRtc3nC9f-"
      },
      "execution_count": 25,
      "outputs": []
    },
    {
      "cell_type": "markdown",
      "source": [
        "Now, we are going to perform on analysis on the data."
      ],
      "metadata": {
        "id": "Mjp2Q6vvDO_V"
      }
    },
    {
      "cell_type": "code",
      "source": [
        "# Print median market fare of flight to Miami\n",
        "\n",
        "print(flights_grouped[(flights_grouped['Origin'] == 'PHL') & (flights_grouped['Dest'] == 'MIA')])"
      ],
      "metadata": {
        "colab": {
          "base_uri": "https://localhost:8080/"
        },
        "id": "zbUCJgExDRkW",
        "outputId": "920ca819-8aaf-49cc-b4b6-8378b9ff5755"
      },
      "execution_count": 26,
      "outputs": [
        {
          "output_type": "stream",
          "name": "stdout",
          "text": [
            "       Origin Dest  Quarter  MktDistance  MktFare\n",
            "196403    PHL  MIA        1       1013.0  156.000\n",
            "196404    PHL  MIA        2       1013.0  198.000\n",
            "196405    PHL  MIA        3       1013.0  187.025\n",
            "196406    PHL  MIA        4       1013.0  224.000\n"
          ]
        }
      ]
    },
    {
      "cell_type": "code",
      "source": [
        "# Print median market fare of flight back\n",
        "\n",
        "print(flights_grouped[(flights_grouped['Origin'] == 'MIA') & (flights_grouped['Dest'] == 'PHL')])"
      ],
      "metadata": {
        "colab": {
          "base_uri": "https://localhost:8080/"
        },
        "id": "iOJPrChpEP4m",
        "outputId": "99657b72-5c96-46aa-a28f-84a9ecd6883c"
      },
      "execution_count": 27,
      "outputs": [
        {
          "output_type": "stream",
          "name": "stdout",
          "text": [
            "       Origin Dest  Quarter  MktDistance  MktFare\n",
            "166381    MIA  PHL        1       1013.0  166.000\n",
            "166382    MIA  PHL        2       1013.0  202.000\n",
            "166383    MIA  PHL        3       1013.0  192.000\n",
            "166384    MIA  PHL        4       1013.0  218.405\n"
          ]
        }
      ]
    },
    {
      "cell_type": "code",
      "source": [
        "# Print median market fare of flight to Los Angeles\n",
        "\n",
        "print(flights_grouped[(flights_grouped['Origin'] == 'PHL') & (flights_grouped['Dest'] == 'LAX')])"
      ],
      "metadata": {
        "colab": {
          "base_uri": "https://localhost:8080/"
        },
        "id": "OcZgh3nyEgh2",
        "outputId": "2085b1f3-e2b8-48ff-995e-1b3603679f70"
      },
      "execution_count": 28,
      "outputs": [
        {
          "output_type": "stream",
          "name": "stdout",
          "text": [
            "       Origin Dest  Quarter  MktDistance  MktFare\n",
            "196283    PHL  LAX        1       2402.0  217.450\n",
            "196284    PHL  LAX        2       2402.0  355.760\n",
            "196285    PHL  LAX        3       2402.0  344.000\n",
            "196286    PHL  LAX        4       2402.0  340.975\n"
          ]
        }
      ]
    },
    {
      "cell_type": "markdown",
      "source": [
        "Let's see the minimum and maximum ticket prices"
      ],
      "metadata": {
        "id": "tGeZOT8cnVG3"
      }
    },
    {
      "cell_type": "code",
      "source": [
        "print(flights_grouped.sort_values(by='MktFare'))"
      ],
      "metadata": {
        "colab": {
          "base_uri": "https://localhost:8080/"
        },
        "id": "LenfvkqvnXbE",
        "outputId": "ff3f40b5-5530-418e-88df-b5eaa9f1352c"
      },
      "execution_count": 29,
      "outputs": [
        {
          "output_type": "stream",
          "name": "stdout",
          "text": [
            "       Origin Dest  Quarter  MktDistance  MktFare\n",
            "127816    INL  JFK        1       1284.0      0.0\n",
            "129765    IWD  MKE        4        400.0      0.0\n",
            "199678    PIH  BIL        1        537.0      0.0\n",
            "217522    ROC  ALB        4        390.0      0.0\n",
            "190819    OWB  JAX        1        942.0      0.0\n",
            "...       ...  ...      ...          ...      ...\n",
            "33855     BQK  LIH        1       4842.0   3937.0\n",
            "111685    GUM  KOA        2       3964.0   6464.0\n",
            "111688    GUM  LAR        2       7279.0   7034.0\n",
            "111846    GUM  RSW        2       8566.0   7359.0\n",
            "202517    PNS  GUM        4       8194.0   8192.0\n",
            "\n",
            "[269535 rows x 5 columns]\n"
          ]
        }
      ]
    },
    {
      "cell_type": "markdown",
      "source": [
        "Let's drop all 0.0 MKtFare rows, since they are likely null/missing values."
      ],
      "metadata": {
        "id": "ONzVF72AnqC8"
      }
    },
    {
      "cell_type": "code",
      "source": [
        "flights_grouped = flights_grouped[flights_grouped['MktFare'] != 0]"
      ],
      "metadata": {
        "id": "lhXhRhx_nuie"
      },
      "execution_count": 30,
      "outputs": []
    },
    {
      "cell_type": "markdown",
      "source": [
        "# Preprocessing of Airbnbs"
      ],
      "metadata": {
        "id": "MiQthp3vEmXD"
      }
    },
    {
      "cell_type": "markdown",
      "source": [
        "Now, we are going to perform preprocessing and analysis on our Airbnbs dataset."
      ],
      "metadata": {
        "id": "hEg6gAEWEpVs"
      }
    },
    {
      "cell_type": "code",
      "source": [
        "# Delete our old dataframes to save memory\n",
        "del flights_q1_df\n",
        "del flights_q2_df\n",
        "del flights_q3_df\n",
        "del flights_q4_df\n",
        "del flights_df"
      ],
      "metadata": {
        "id": "Eud6M4slrYj2"
      },
      "execution_count": 31,
      "outputs": []
    },
    {
      "cell_type": "code",
      "source": [
        "# Create the kaggle directory\n",
        "!mkdir ~/.kaggle\n",
        "\n",
        "# Read the uploaded kaggle.json file\n",
        "!cp /content/drive/MyDrive/kaggle.json ~/.kaggle/\n",
        "\n",
        "# Download Airbnb\n",
        "!!kaggle datasets download joebeachcapital/airbnb -f airbnb-listings.csv\n",
        "\n",
        "# Unzip CSV\n",
        "!unzip /content/airbnb-listings.csv.zip"
      ],
      "metadata": {
        "colab": {
          "base_uri": "https://localhost:8080/"
        },
        "id": "4avV4EJHqyoq",
        "outputId": "8d2de9c8-25c6-46f0-e3f8-241b55f6dd03"
      },
      "execution_count": 32,
      "outputs": [
        {
          "output_type": "stream",
          "name": "stdout",
          "text": [
            "Archive:  /content/airbnb-listings.csv.zip\n",
            "  inflating: airbnb-listings.csv     \n"
          ]
        }
      ]
    },
    {
      "cell_type": "markdown",
      "source": [
        "We had no problems importing this dataset into DataGrip and as it is pre-cleaned we can just directly integrate it into our database."
      ],
      "metadata": {
        "id": "0QZ5k7VEv0-E"
      }
    },
    {
      "cell_type": "markdown",
      "source": [
        "# Preprocessing of Destinations"
      ],
      "metadata": {
        "id": "bgE1PC1xwB2I"
      }
    },
    {
      "cell_type": "markdown",
      "source": [
        "Let's import and read the csv file"
      ],
      "metadata": {
        "id": "rgYtRO6Uw7In"
      }
    },
    {
      "cell_type": "code",
      "source": [
        "# Download Destinations\n",
        "!!kaggle datasets download louise2001/us-cities -f uscities.csv\n",
        "\n",
        "# Unzip CSV\n",
        "!unzip /content/uscities.csv.zip"
      ],
      "metadata": {
        "colab": {
          "base_uri": "https://localhost:8080/"
        },
        "id": "NL-E928PwJQO",
        "outputId": "aced7d00-7139-4a3f-cca6-c02ec70ae473"
      },
      "execution_count": 33,
      "outputs": [
        {
          "output_type": "stream",
          "name": "stdout",
          "text": [
            "Archive:  /content/uscities.csv.zip\n",
            "  inflating: uscities.csv            \n"
          ]
        }
      ]
    },
    {
      "cell_type": "code",
      "source": [
        "destinations_df = pd.read_csv('uscities.csv')"
      ],
      "metadata": {
        "id": "6Ji2xe0Jw08S"
      },
      "execution_count": 34,
      "outputs": []
    },
    {
      "cell_type": "markdown",
      "source": [
        "Let's examine the current df info"
      ],
      "metadata": {
        "id": "iO02Rmftw-D1"
      }
    },
    {
      "cell_type": "code",
      "source": [
        "destinations_df.info()"
      ],
      "metadata": {
        "colab": {
          "base_uri": "https://localhost:8080/"
        },
        "id": "tsj1un31w32H",
        "outputId": "68eb7615-5602-4dbd-ab80-3c4d1e1c713a"
      },
      "execution_count": 35,
      "outputs": [
        {
          "output_type": "stream",
          "name": "stdout",
          "text": [
            "<class 'pandas.core.frame.DataFrame'>\n",
            "RangeIndex: 28338 entries, 0 to 28337\n",
            "Data columns (total 17 columns):\n",
            " #   Column        Non-Null Count  Dtype  \n",
            "---  ------        --------------  -----  \n",
            " 0   city          28338 non-null  object \n",
            " 1   city_ascii    28338 non-null  object \n",
            " 2   state_id      28338 non-null  object \n",
            " 3   state_name    28338 non-null  object \n",
            " 4   county_fips   28338 non-null  int64  \n",
            " 5   county_name   28338 non-null  object \n",
            " 6   lat           28338 non-null  float64\n",
            " 7   lng           28338 non-null  float64\n",
            " 8   population    28338 non-null  int64  \n",
            " 9   density       28338 non-null  int64  \n",
            " 10  source        28338 non-null  object \n",
            " 11  military      28338 non-null  bool   \n",
            " 12  incorporated  28338 non-null  bool   \n",
            " 13  timezone      28338 non-null  object \n",
            " 14  ranking       28338 non-null  int64  \n",
            " 15  zips          28337 non-null  object \n",
            " 16  id            28338 non-null  int64  \n",
            "dtypes: bool(2), float64(2), int64(5), object(8)\n",
            "memory usage: 3.3+ MB\n"
          ]
        }
      ]
    },
    {
      "cell_type": "markdown",
      "source": [
        "For the sake of our analysis, we will only need the 'lat', 'lng', 'city', and 'state' attributes, which we can take from the df."
      ],
      "metadata": {
        "id": "X3kjX-y4xBe6"
      }
    },
    {
      "cell_type": "code",
      "source": [
        "destinations_df.head()"
      ],
      "metadata": {
        "colab": {
          "base_uri": "https://localhost:8080/",
          "height": 834
        },
        "id": "1ai7hUzoxAcx",
        "outputId": "53f30258-658b-419e-a3be-39e67f94290e"
      },
      "execution_count": 36,
      "outputs": [
        {
          "output_type": "execute_result",
          "data": {
            "text/plain": [
              "          city   city_ascii state_id  state_name  county_fips  county_name  \\\n",
              "0     New York     New York       NY    New York        36061     New York   \n",
              "1  Los Angeles  Los Angeles       CA  California         6037  Los Angeles   \n",
              "2      Chicago      Chicago       IL    Illinois        17031         Cook   \n",
              "3        Miami        Miami       FL     Florida        12086   Miami-Dade   \n",
              "4       Dallas       Dallas       TX       Texas        48113       Dallas   \n",
              "\n",
              "       lat       lng  population  density   source  military  incorporated  \\\n",
              "0  40.6943  -73.9249    18713220    10715  polygon     False          True   \n",
              "1  34.1139 -118.4068    12750807     3276  polygon     False          True   \n",
              "2  41.8373  -87.6862     8604203     4574  polygon     False          True   \n",
              "3  25.7839  -80.2102     6445545     5019  polygon     False          True   \n",
              "4  32.7936  -96.7662     5743938     1526  polygon     False          True   \n",
              "\n",
              "              timezone  ranking  \\\n",
              "0     America/New_York        1   \n",
              "1  America/Los_Angeles        1   \n",
              "2      America/Chicago        1   \n",
              "3     America/New_York        1   \n",
              "4      America/Chicago        1   \n",
              "\n",
              "                                                zips          id  \n",
              "0  11229 11226 11225 11224 11222 11221 11220 1138...  1840034016  \n",
              "1  90291 90293 90292 91316 91311 90037 90031 9000...  1840020491  \n",
              "2  60018 60649 60641 60640 60643 60642 60645 6064...  1840000494  \n",
              "3  33129 33125 33126 33127 33128 33149 33144 3314...  1840015149  \n",
              "4  75287 75098 75233 75254 75251 75252 75253 7503...  1840019440  "
            ],
            "text/html": [
              "\n",
              "  <div id=\"df-264b55ef-697c-4c1b-b3e4-4bff3bd48c67\" class=\"colab-df-container\">\n",
              "    <div>\n",
              "<style scoped>\n",
              "    .dataframe tbody tr th:only-of-type {\n",
              "        vertical-align: middle;\n",
              "    }\n",
              "\n",
              "    .dataframe tbody tr th {\n",
              "        vertical-align: top;\n",
              "    }\n",
              "\n",
              "    .dataframe thead th {\n",
              "        text-align: right;\n",
              "    }\n",
              "</style>\n",
              "<table border=\"1\" class=\"dataframe\">\n",
              "  <thead>\n",
              "    <tr style=\"text-align: right;\">\n",
              "      <th></th>\n",
              "      <th>city</th>\n",
              "      <th>city_ascii</th>\n",
              "      <th>state_id</th>\n",
              "      <th>state_name</th>\n",
              "      <th>county_fips</th>\n",
              "      <th>county_name</th>\n",
              "      <th>lat</th>\n",
              "      <th>lng</th>\n",
              "      <th>population</th>\n",
              "      <th>density</th>\n",
              "      <th>source</th>\n",
              "      <th>military</th>\n",
              "      <th>incorporated</th>\n",
              "      <th>timezone</th>\n",
              "      <th>ranking</th>\n",
              "      <th>zips</th>\n",
              "      <th>id</th>\n",
              "    </tr>\n",
              "  </thead>\n",
              "  <tbody>\n",
              "    <tr>\n",
              "      <th>0</th>\n",
              "      <td>New York</td>\n",
              "      <td>New York</td>\n",
              "      <td>NY</td>\n",
              "      <td>New York</td>\n",
              "      <td>36061</td>\n",
              "      <td>New York</td>\n",
              "      <td>40.6943</td>\n",
              "      <td>-73.9249</td>\n",
              "      <td>18713220</td>\n",
              "      <td>10715</td>\n",
              "      <td>polygon</td>\n",
              "      <td>False</td>\n",
              "      <td>True</td>\n",
              "      <td>America/New_York</td>\n",
              "      <td>1</td>\n",
              "      <td>11229 11226 11225 11224 11222 11221 11220 1138...</td>\n",
              "      <td>1840034016</td>\n",
              "    </tr>\n",
              "    <tr>\n",
              "      <th>1</th>\n",
              "      <td>Los Angeles</td>\n",
              "      <td>Los Angeles</td>\n",
              "      <td>CA</td>\n",
              "      <td>California</td>\n",
              "      <td>6037</td>\n",
              "      <td>Los Angeles</td>\n",
              "      <td>34.1139</td>\n",
              "      <td>-118.4068</td>\n",
              "      <td>12750807</td>\n",
              "      <td>3276</td>\n",
              "      <td>polygon</td>\n",
              "      <td>False</td>\n",
              "      <td>True</td>\n",
              "      <td>America/Los_Angeles</td>\n",
              "      <td>1</td>\n",
              "      <td>90291 90293 90292 91316 91311 90037 90031 9000...</td>\n",
              "      <td>1840020491</td>\n",
              "    </tr>\n",
              "    <tr>\n",
              "      <th>2</th>\n",
              "      <td>Chicago</td>\n",
              "      <td>Chicago</td>\n",
              "      <td>IL</td>\n",
              "      <td>Illinois</td>\n",
              "      <td>17031</td>\n",
              "      <td>Cook</td>\n",
              "      <td>41.8373</td>\n",
              "      <td>-87.6862</td>\n",
              "      <td>8604203</td>\n",
              "      <td>4574</td>\n",
              "      <td>polygon</td>\n",
              "      <td>False</td>\n",
              "      <td>True</td>\n",
              "      <td>America/Chicago</td>\n",
              "      <td>1</td>\n",
              "      <td>60018 60649 60641 60640 60643 60642 60645 6064...</td>\n",
              "      <td>1840000494</td>\n",
              "    </tr>\n",
              "    <tr>\n",
              "      <th>3</th>\n",
              "      <td>Miami</td>\n",
              "      <td>Miami</td>\n",
              "      <td>FL</td>\n",
              "      <td>Florida</td>\n",
              "      <td>12086</td>\n",
              "      <td>Miami-Dade</td>\n",
              "      <td>25.7839</td>\n",
              "      <td>-80.2102</td>\n",
              "      <td>6445545</td>\n",
              "      <td>5019</td>\n",
              "      <td>polygon</td>\n",
              "      <td>False</td>\n",
              "      <td>True</td>\n",
              "      <td>America/New_York</td>\n",
              "      <td>1</td>\n",
              "      <td>33129 33125 33126 33127 33128 33149 33144 3314...</td>\n",
              "      <td>1840015149</td>\n",
              "    </tr>\n",
              "    <tr>\n",
              "      <th>4</th>\n",
              "      <td>Dallas</td>\n",
              "      <td>Dallas</td>\n",
              "      <td>TX</td>\n",
              "      <td>Texas</td>\n",
              "      <td>48113</td>\n",
              "      <td>Dallas</td>\n",
              "      <td>32.7936</td>\n",
              "      <td>-96.7662</td>\n",
              "      <td>5743938</td>\n",
              "      <td>1526</td>\n",
              "      <td>polygon</td>\n",
              "      <td>False</td>\n",
              "      <td>True</td>\n",
              "      <td>America/Chicago</td>\n",
              "      <td>1</td>\n",
              "      <td>75287 75098 75233 75254 75251 75252 75253 7503...</td>\n",
              "      <td>1840019440</td>\n",
              "    </tr>\n",
              "  </tbody>\n",
              "</table>\n",
              "</div>\n",
              "    <div class=\"colab-df-buttons\">\n",
              "\n",
              "  <div class=\"colab-df-container\">\n",
              "    <button class=\"colab-df-convert\" onclick=\"convertToInteractive('df-264b55ef-697c-4c1b-b3e4-4bff3bd48c67')\"\n",
              "            title=\"Convert this dataframe to an interactive table.\"\n",
              "            style=\"display:none;\">\n",
              "\n",
              "  <svg xmlns=\"http://www.w3.org/2000/svg\" height=\"24px\" viewBox=\"0 -960 960 960\">\n",
              "    <path d=\"M120-120v-720h720v720H120Zm60-500h600v-160H180v160Zm220 220h160v-160H400v160Zm0 220h160v-160H400v160ZM180-400h160v-160H180v160Zm440 0h160v-160H620v160ZM180-180h160v-160H180v160Zm440 0h160v-160H620v160Z\"/>\n",
              "  </svg>\n",
              "    </button>\n",
              "\n",
              "  <style>\n",
              "    .colab-df-container {\n",
              "      display:flex;\n",
              "      gap: 12px;\n",
              "    }\n",
              "\n",
              "    .colab-df-convert {\n",
              "      background-color: #E8F0FE;\n",
              "      border: none;\n",
              "      border-radius: 50%;\n",
              "      cursor: pointer;\n",
              "      display: none;\n",
              "      fill: #1967D2;\n",
              "      height: 32px;\n",
              "      padding: 0 0 0 0;\n",
              "      width: 32px;\n",
              "    }\n",
              "\n",
              "    .colab-df-convert:hover {\n",
              "      background-color: #E2EBFA;\n",
              "      box-shadow: 0px 1px 2px rgba(60, 64, 67, 0.3), 0px 1px 3px 1px rgba(60, 64, 67, 0.15);\n",
              "      fill: #174EA6;\n",
              "    }\n",
              "\n",
              "    .colab-df-buttons div {\n",
              "      margin-bottom: 4px;\n",
              "    }\n",
              "\n",
              "    [theme=dark] .colab-df-convert {\n",
              "      background-color: #3B4455;\n",
              "      fill: #D2E3FC;\n",
              "    }\n",
              "\n",
              "    [theme=dark] .colab-df-convert:hover {\n",
              "      background-color: #434B5C;\n",
              "      box-shadow: 0px 1px 3px 1px rgba(0, 0, 0, 0.15);\n",
              "      filter: drop-shadow(0px 1px 2px rgba(0, 0, 0, 0.3));\n",
              "      fill: #FFFFFF;\n",
              "    }\n",
              "  </style>\n",
              "\n",
              "    <script>\n",
              "      const buttonEl =\n",
              "        document.querySelector('#df-264b55ef-697c-4c1b-b3e4-4bff3bd48c67 button.colab-df-convert');\n",
              "      buttonEl.style.display =\n",
              "        google.colab.kernel.accessAllowed ? 'block' : 'none';\n",
              "\n",
              "      async function convertToInteractive(key) {\n",
              "        const element = document.querySelector('#df-264b55ef-697c-4c1b-b3e4-4bff3bd48c67');\n",
              "        const dataTable =\n",
              "          await google.colab.kernel.invokeFunction('convertToInteractive',\n",
              "                                                    [key], {});\n",
              "        if (!dataTable) return;\n",
              "\n",
              "        const docLinkHtml = 'Like what you see? Visit the ' +\n",
              "          '<a target=\"_blank\" href=https://colab.research.google.com/notebooks/data_table.ipynb>data table notebook</a>'\n",
              "          + ' to learn more about interactive tables.';\n",
              "        element.innerHTML = '';\n",
              "        dataTable['output_type'] = 'display_data';\n",
              "        await google.colab.output.renderOutput(dataTable, element);\n",
              "        const docLink = document.createElement('div');\n",
              "        docLink.innerHTML = docLinkHtml;\n",
              "        element.appendChild(docLink);\n",
              "      }\n",
              "    </script>\n",
              "  </div>\n",
              "\n",
              "\n",
              "<div id=\"df-149e669f-bb37-47f7-b1bd-c3c86a700e45\">\n",
              "  <button class=\"colab-df-quickchart\" onclick=\"quickchart('df-149e669f-bb37-47f7-b1bd-c3c86a700e45')\"\n",
              "            title=\"Suggest charts\"\n",
              "            style=\"display:none;\">\n",
              "\n",
              "<svg xmlns=\"http://www.w3.org/2000/svg\" height=\"24px\"viewBox=\"0 0 24 24\"\n",
              "     width=\"24px\">\n",
              "    <g>\n",
              "        <path d=\"M19 3H5c-1.1 0-2 .9-2 2v14c0 1.1.9 2 2 2h14c1.1 0 2-.9 2-2V5c0-1.1-.9-2-2-2zM9 17H7v-7h2v7zm4 0h-2V7h2v10zm4 0h-2v-4h2v4z\"/>\n",
              "    </g>\n",
              "</svg>\n",
              "  </button>\n",
              "\n",
              "<style>\n",
              "  .colab-df-quickchart {\n",
              "      --bg-color: #E8F0FE;\n",
              "      --fill-color: #1967D2;\n",
              "      --hover-bg-color: #E2EBFA;\n",
              "      --hover-fill-color: #174EA6;\n",
              "      --disabled-fill-color: #AAA;\n",
              "      --disabled-bg-color: #DDD;\n",
              "  }\n",
              "\n",
              "  [theme=dark] .colab-df-quickchart {\n",
              "      --bg-color: #3B4455;\n",
              "      --fill-color: #D2E3FC;\n",
              "      --hover-bg-color: #434B5C;\n",
              "      --hover-fill-color: #FFFFFF;\n",
              "      --disabled-bg-color: #3B4455;\n",
              "      --disabled-fill-color: #666;\n",
              "  }\n",
              "\n",
              "  .colab-df-quickchart {\n",
              "    background-color: var(--bg-color);\n",
              "    border: none;\n",
              "    border-radius: 50%;\n",
              "    cursor: pointer;\n",
              "    display: none;\n",
              "    fill: var(--fill-color);\n",
              "    height: 32px;\n",
              "    padding: 0;\n",
              "    width: 32px;\n",
              "  }\n",
              "\n",
              "  .colab-df-quickchart:hover {\n",
              "    background-color: var(--hover-bg-color);\n",
              "    box-shadow: 0 1px 2px rgba(60, 64, 67, 0.3), 0 1px 3px 1px rgba(60, 64, 67, 0.15);\n",
              "    fill: var(--button-hover-fill-color);\n",
              "  }\n",
              "\n",
              "  .colab-df-quickchart-complete:disabled,\n",
              "  .colab-df-quickchart-complete:disabled:hover {\n",
              "    background-color: var(--disabled-bg-color);\n",
              "    fill: var(--disabled-fill-color);\n",
              "    box-shadow: none;\n",
              "  }\n",
              "\n",
              "  .colab-df-spinner {\n",
              "    border: 2px solid var(--fill-color);\n",
              "    border-color: transparent;\n",
              "    border-bottom-color: var(--fill-color);\n",
              "    animation:\n",
              "      spin 1s steps(1) infinite;\n",
              "  }\n",
              "\n",
              "  @keyframes spin {\n",
              "    0% {\n",
              "      border-color: transparent;\n",
              "      border-bottom-color: var(--fill-color);\n",
              "      border-left-color: var(--fill-color);\n",
              "    }\n",
              "    20% {\n",
              "      border-color: transparent;\n",
              "      border-left-color: var(--fill-color);\n",
              "      border-top-color: var(--fill-color);\n",
              "    }\n",
              "    30% {\n",
              "      border-color: transparent;\n",
              "      border-left-color: var(--fill-color);\n",
              "      border-top-color: var(--fill-color);\n",
              "      border-right-color: var(--fill-color);\n",
              "    }\n",
              "    40% {\n",
              "      border-color: transparent;\n",
              "      border-right-color: var(--fill-color);\n",
              "      border-top-color: var(--fill-color);\n",
              "    }\n",
              "    60% {\n",
              "      border-color: transparent;\n",
              "      border-right-color: var(--fill-color);\n",
              "    }\n",
              "    80% {\n",
              "      border-color: transparent;\n",
              "      border-right-color: var(--fill-color);\n",
              "      border-bottom-color: var(--fill-color);\n",
              "    }\n",
              "    90% {\n",
              "      border-color: transparent;\n",
              "      border-bottom-color: var(--fill-color);\n",
              "    }\n",
              "  }\n",
              "</style>\n",
              "\n",
              "  <script>\n",
              "    async function quickchart(key) {\n",
              "      const quickchartButtonEl =\n",
              "        document.querySelector('#' + key + ' button');\n",
              "      quickchartButtonEl.disabled = true;  // To prevent multiple clicks.\n",
              "      quickchartButtonEl.classList.add('colab-df-spinner');\n",
              "      try {\n",
              "        const charts = await google.colab.kernel.invokeFunction(\n",
              "            'suggestCharts', [key], {});\n",
              "      } catch (error) {\n",
              "        console.error('Error during call to suggestCharts:', error);\n",
              "      }\n",
              "      quickchartButtonEl.classList.remove('colab-df-spinner');\n",
              "      quickchartButtonEl.classList.add('colab-df-quickchart-complete');\n",
              "    }\n",
              "    (() => {\n",
              "      let quickchartButtonEl =\n",
              "        document.querySelector('#df-149e669f-bb37-47f7-b1bd-c3c86a700e45 button');\n",
              "      quickchartButtonEl.style.display =\n",
              "        google.colab.kernel.accessAllowed ? 'block' : 'none';\n",
              "    })();\n",
              "  </script>\n",
              "</div>\n",
              "    </div>\n",
              "  </div>\n"
            ]
          },
          "metadata": {},
          "execution_count": 36
        }
      ]
    },
    {
      "cell_type": "code",
      "source": [
        "destinations_df = destinations_df[['lat', 'lng', 'city', 'state_id']]\n",
        "destinations_df.info()"
      ],
      "metadata": {
        "colab": {
          "base_uri": "https://localhost:8080/"
        },
        "id": "PqmxUGtYxMld",
        "outputId": "1edee6ba-5f61-4443-9402-d462fba3b616"
      },
      "execution_count": 37,
      "outputs": [
        {
          "output_type": "stream",
          "name": "stdout",
          "text": [
            "<class 'pandas.core.frame.DataFrame'>\n",
            "RangeIndex: 28338 entries, 0 to 28337\n",
            "Data columns (total 4 columns):\n",
            " #   Column    Non-Null Count  Dtype  \n",
            "---  ------    --------------  -----  \n",
            " 0   lat       28338 non-null  float64\n",
            " 1   lng       28338 non-null  float64\n",
            " 2   city      28338 non-null  object \n",
            " 3   state_id  28338 non-null  object \n",
            "dtypes: float64(2), object(2)\n",
            "memory usage: 885.7+ KB\n"
          ]
        }
      ]
    },
    {
      "cell_type": "markdown",
      "source": [
        "We can see how the memory usage greatly decreased, now lets drop any null values, as every column is necessary for our computations."
      ],
      "metadata": {
        "id": "zpIANxcwxfiW"
      }
    },
    {
      "cell_type": "code",
      "source": [
        "destinations_df = destinations_df.dropna()"
      ],
      "metadata": {
        "id": "UJB9fFKKxdns"
      },
      "execution_count": 38,
      "outputs": []
    },
    {
      "cell_type": "markdown",
      "source": [
        "Now, we can make a csv of our data which we will import into our database."
      ],
      "metadata": {
        "id": "4P12Z4V8xzQU"
      }
    },
    {
      "cell_type": "code",
      "source": [
        "destinations_df.to_csv('destinations.csv', index=False)"
      ],
      "metadata": {
        "id": "I5mfed7wxnQX"
      },
      "execution_count": 39,
      "outputs": []
    },
    {
      "cell_type": "markdown",
      "source": [
        "# Preprocessing of Temperatures"
      ],
      "metadata": {
        "id": "dTCmmp2Hx3vP"
      }
    },
    {
      "cell_type": "code",
      "source": [
        "# Delete old dataframe to save memory\n",
        "del destinations_df"
      ],
      "metadata": {
        "id": "wooI8paBam3i"
      },
      "execution_count": 42,
      "outputs": []
    },
    {
      "cell_type": "code",
      "source": [
        "# Download Destinations\n",
        "!!kaggle datasets download efradgamer/world-average-temperature -f Avg_World_Temp_2020.csv"
      ],
      "metadata": {
        "colab": {
          "base_uri": "https://localhost:8080/"
        },
        "id": "Ii6U7lqYx236",
        "outputId": "4a326ea5-f9d9-4997-d086-f100bd55e7d1"
      },
      "execution_count": 41,
      "outputs": [
        {
          "output_type": "stream",
          "name": "stdout",
          "text": [
            "unzip:  cannot find or open /content/Avg_World_Temp_2020.csv.zip, /content/Avg_World_Temp_2020.csv.zip.zip or /content/Avg_World_Temp_2020.csv.zip.ZIP.\n"
          ]
        }
      ]
    },
    {
      "cell_type": "code",
      "source": [
        "temperatures_df = pd.read_csv('Avg_World_Temp_2020.csv')"
      ],
      "metadata": {
        "id": "uVjTmqGuZQj7"
      },
      "execution_count": 51,
      "outputs": []
    },
    {
      "cell_type": "markdown",
      "source": [
        "Let's see the info in this dataframe"
      ],
      "metadata": {
        "id": "6LV3x88acHVe"
      }
    },
    {
      "cell_type": "code",
      "source": [
        "temperatures_df.info()"
      ],
      "metadata": {
        "colab": {
          "base_uri": "https://localhost:8080/"
        },
        "id": "ewg8ulqycFC_",
        "outputId": "46c93618-6d8b-4b6c-a33c-a52786f74517"
      },
      "execution_count": 52,
      "outputs": [
        {
          "output_type": "stream",
          "name": "stdout",
          "text": [
            "<class 'pandas.core.frame.DataFrame'>\n",
            "RangeIndex: 424 entries, 0 to 423\n",
            "Data columns (total 17 columns):\n",
            " #   Column      Non-Null Count  Dtype  \n",
            "---  ------      --------------  -----  \n",
            " 0   Unnamed: 0  424 non-null    int64  \n",
            " 1   Country     424 non-null    object \n",
            " 2   City        424 non-null    object \n",
            " 3   Jan         424 non-null    float64\n",
            " 4   Feb         424 non-null    float64\n",
            " 5   Mar         424 non-null    float64\n",
            " 6   Apr         424 non-null    float64\n",
            " 7   May         424 non-null    float64\n",
            " 8   Jun         424 non-null    float64\n",
            " 9   Jul         424 non-null    float64\n",
            " 10  Aug         424 non-null    float64\n",
            " 11  Sep         424 non-null    float64\n",
            " 12  Oct         424 non-null    float64\n",
            " 13  Nov         424 non-null    float64\n",
            " 14  Dec         424 non-null    float64\n",
            " 15  Avg_Year    424 non-null    float64\n",
            " 16  Continent   424 non-null    object \n",
            "dtypes: float64(13), int64(1), object(3)\n",
            "memory usage: 56.4+ KB\n"
          ]
        }
      ]
    },
    {
      "cell_type": "markdown",
      "source": [
        "We can see there is a separate column for each column, we can change this to have the month be in a column and then have the average temperature for that month listed."
      ],
      "metadata": {
        "id": "15-FPkYicX7m"
      }
    },
    {
      "cell_type": "code",
      "source": [
        "temperatures_df = temperatures_df[['Country', 'City', 'Jan', 'Feb', 'Mar', 'Apr', 'May', 'Jun', 'Jul', 'Aug', 'Sep', 'Oct', 'Nov', 'Dec', 'Avg_Year', 'Continent']]"
      ],
      "metadata": {
        "id": "qrmmNGwFc-AI"
      },
      "execution_count": 53,
      "outputs": []
    },
    {
      "cell_type": "code",
      "source": [
        "temperatures_df = temperatures_df.melt(id_vars=['Country', 'City', 'Continent', 'Avg_Year'], var_name='Month', value_name='Temperature')"
      ],
      "metadata": {
        "id": "K4iLWD8QcKZz"
      },
      "execution_count": 54,
      "outputs": []
    },
    {
      "cell_type": "code",
      "source": [
        "temperatures_df.head()"
      ],
      "metadata": {
        "colab": {
          "base_uri": "https://localhost:8080/",
          "height": 206
        },
        "id": "q8iwWt3pcuvP",
        "outputId": "4e764f02-8757-47c9-d20f-c4fb08d5ab27"
      },
      "execution_count": 56,
      "outputs": [
        {
          "output_type": "execute_result",
          "data": {
            "text/plain": [
              "   Country         City Continent  Avg_Year Month  Temperature\n",
              "0  Algeria      Algiers    Africa      17.4   Jan         11.2\n",
              "1  Algeria  Tamanrasset    Africa      21.7   Jan         12.8\n",
              "2  Algeria      Reggane    Africa      28.3   Jan         16.0\n",
              "3   Angola       Luanda    Africa      25.8   Jan         26.7\n",
              "4    Benin      Cotonou    Africa      27.2   Jan         27.3"
            ],
            "text/html": [
              "\n",
              "  <div id=\"df-758ac890-6021-4222-904f-02c0300541a9\" class=\"colab-df-container\">\n",
              "    <div>\n",
              "<style scoped>\n",
              "    .dataframe tbody tr th:only-of-type {\n",
              "        vertical-align: middle;\n",
              "    }\n",
              "\n",
              "    .dataframe tbody tr th {\n",
              "        vertical-align: top;\n",
              "    }\n",
              "\n",
              "    .dataframe thead th {\n",
              "        text-align: right;\n",
              "    }\n",
              "</style>\n",
              "<table border=\"1\" class=\"dataframe\">\n",
              "  <thead>\n",
              "    <tr style=\"text-align: right;\">\n",
              "      <th></th>\n",
              "      <th>Country</th>\n",
              "      <th>City</th>\n",
              "      <th>Continent</th>\n",
              "      <th>Avg_Year</th>\n",
              "      <th>Month</th>\n",
              "      <th>Temperature</th>\n",
              "    </tr>\n",
              "  </thead>\n",
              "  <tbody>\n",
              "    <tr>\n",
              "      <th>0</th>\n",
              "      <td>Algeria</td>\n",
              "      <td>Algiers</td>\n",
              "      <td>Africa</td>\n",
              "      <td>17.4</td>\n",
              "      <td>Jan</td>\n",
              "      <td>11.2</td>\n",
              "    </tr>\n",
              "    <tr>\n",
              "      <th>1</th>\n",
              "      <td>Algeria</td>\n",
              "      <td>Tamanrasset</td>\n",
              "      <td>Africa</td>\n",
              "      <td>21.7</td>\n",
              "      <td>Jan</td>\n",
              "      <td>12.8</td>\n",
              "    </tr>\n",
              "    <tr>\n",
              "      <th>2</th>\n",
              "      <td>Algeria</td>\n",
              "      <td>Reggane</td>\n",
              "      <td>Africa</td>\n",
              "      <td>28.3</td>\n",
              "      <td>Jan</td>\n",
              "      <td>16.0</td>\n",
              "    </tr>\n",
              "    <tr>\n",
              "      <th>3</th>\n",
              "      <td>Angola</td>\n",
              "      <td>Luanda</td>\n",
              "      <td>Africa</td>\n",
              "      <td>25.8</td>\n",
              "      <td>Jan</td>\n",
              "      <td>26.7</td>\n",
              "    </tr>\n",
              "    <tr>\n",
              "      <th>4</th>\n",
              "      <td>Benin</td>\n",
              "      <td>Cotonou</td>\n",
              "      <td>Africa</td>\n",
              "      <td>27.2</td>\n",
              "      <td>Jan</td>\n",
              "      <td>27.3</td>\n",
              "    </tr>\n",
              "  </tbody>\n",
              "</table>\n",
              "</div>\n",
              "    <div class=\"colab-df-buttons\">\n",
              "\n",
              "  <div class=\"colab-df-container\">\n",
              "    <button class=\"colab-df-convert\" onclick=\"convertToInteractive('df-758ac890-6021-4222-904f-02c0300541a9')\"\n",
              "            title=\"Convert this dataframe to an interactive table.\"\n",
              "            style=\"display:none;\">\n",
              "\n",
              "  <svg xmlns=\"http://www.w3.org/2000/svg\" height=\"24px\" viewBox=\"0 -960 960 960\">\n",
              "    <path d=\"M120-120v-720h720v720H120Zm60-500h600v-160H180v160Zm220 220h160v-160H400v160Zm0 220h160v-160H400v160ZM180-400h160v-160H180v160Zm440 0h160v-160H620v160ZM180-180h160v-160H180v160Zm440 0h160v-160H620v160Z\"/>\n",
              "  </svg>\n",
              "    </button>\n",
              "\n",
              "  <style>\n",
              "    .colab-df-container {\n",
              "      display:flex;\n",
              "      gap: 12px;\n",
              "    }\n",
              "\n",
              "    .colab-df-convert {\n",
              "      background-color: #E8F0FE;\n",
              "      border: none;\n",
              "      border-radius: 50%;\n",
              "      cursor: pointer;\n",
              "      display: none;\n",
              "      fill: #1967D2;\n",
              "      height: 32px;\n",
              "      padding: 0 0 0 0;\n",
              "      width: 32px;\n",
              "    }\n",
              "\n",
              "    .colab-df-convert:hover {\n",
              "      background-color: #E2EBFA;\n",
              "      box-shadow: 0px 1px 2px rgba(60, 64, 67, 0.3), 0px 1px 3px 1px rgba(60, 64, 67, 0.15);\n",
              "      fill: #174EA6;\n",
              "    }\n",
              "\n",
              "    .colab-df-buttons div {\n",
              "      margin-bottom: 4px;\n",
              "    }\n",
              "\n",
              "    [theme=dark] .colab-df-convert {\n",
              "      background-color: #3B4455;\n",
              "      fill: #D2E3FC;\n",
              "    }\n",
              "\n",
              "    [theme=dark] .colab-df-convert:hover {\n",
              "      background-color: #434B5C;\n",
              "      box-shadow: 0px 1px 3px 1px rgba(0, 0, 0, 0.15);\n",
              "      filter: drop-shadow(0px 1px 2px rgba(0, 0, 0, 0.3));\n",
              "      fill: #FFFFFF;\n",
              "    }\n",
              "  </style>\n",
              "\n",
              "    <script>\n",
              "      const buttonEl =\n",
              "        document.querySelector('#df-758ac890-6021-4222-904f-02c0300541a9 button.colab-df-convert');\n",
              "      buttonEl.style.display =\n",
              "        google.colab.kernel.accessAllowed ? 'block' : 'none';\n",
              "\n",
              "      async function convertToInteractive(key) {\n",
              "        const element = document.querySelector('#df-758ac890-6021-4222-904f-02c0300541a9');\n",
              "        const dataTable =\n",
              "          await google.colab.kernel.invokeFunction('convertToInteractive',\n",
              "                                                    [key], {});\n",
              "        if (!dataTable) return;\n",
              "\n",
              "        const docLinkHtml = 'Like what you see? Visit the ' +\n",
              "          '<a target=\"_blank\" href=https://colab.research.google.com/notebooks/data_table.ipynb>data table notebook</a>'\n",
              "          + ' to learn more about interactive tables.';\n",
              "        element.innerHTML = '';\n",
              "        dataTable['output_type'] = 'display_data';\n",
              "        await google.colab.output.renderOutput(dataTable, element);\n",
              "        const docLink = document.createElement('div');\n",
              "        docLink.innerHTML = docLinkHtml;\n",
              "        element.appendChild(docLink);\n",
              "      }\n",
              "    </script>\n",
              "  </div>\n",
              "\n",
              "\n",
              "<div id=\"df-0a0c7699-c91d-4821-b285-3668e29c2b49\">\n",
              "  <button class=\"colab-df-quickchart\" onclick=\"quickchart('df-0a0c7699-c91d-4821-b285-3668e29c2b49')\"\n",
              "            title=\"Suggest charts\"\n",
              "            style=\"display:none;\">\n",
              "\n",
              "<svg xmlns=\"http://www.w3.org/2000/svg\" height=\"24px\"viewBox=\"0 0 24 24\"\n",
              "     width=\"24px\">\n",
              "    <g>\n",
              "        <path d=\"M19 3H5c-1.1 0-2 .9-2 2v14c0 1.1.9 2 2 2h14c1.1 0 2-.9 2-2V5c0-1.1-.9-2-2-2zM9 17H7v-7h2v7zm4 0h-2V7h2v10zm4 0h-2v-4h2v4z\"/>\n",
              "    </g>\n",
              "</svg>\n",
              "  </button>\n",
              "\n",
              "<style>\n",
              "  .colab-df-quickchart {\n",
              "      --bg-color: #E8F0FE;\n",
              "      --fill-color: #1967D2;\n",
              "      --hover-bg-color: #E2EBFA;\n",
              "      --hover-fill-color: #174EA6;\n",
              "      --disabled-fill-color: #AAA;\n",
              "      --disabled-bg-color: #DDD;\n",
              "  }\n",
              "\n",
              "  [theme=dark] .colab-df-quickchart {\n",
              "      --bg-color: #3B4455;\n",
              "      --fill-color: #D2E3FC;\n",
              "      --hover-bg-color: #434B5C;\n",
              "      --hover-fill-color: #FFFFFF;\n",
              "      --disabled-bg-color: #3B4455;\n",
              "      --disabled-fill-color: #666;\n",
              "  }\n",
              "\n",
              "  .colab-df-quickchart {\n",
              "    background-color: var(--bg-color);\n",
              "    border: none;\n",
              "    border-radius: 50%;\n",
              "    cursor: pointer;\n",
              "    display: none;\n",
              "    fill: var(--fill-color);\n",
              "    height: 32px;\n",
              "    padding: 0;\n",
              "    width: 32px;\n",
              "  }\n",
              "\n",
              "  .colab-df-quickchart:hover {\n",
              "    background-color: var(--hover-bg-color);\n",
              "    box-shadow: 0 1px 2px rgba(60, 64, 67, 0.3), 0 1px 3px 1px rgba(60, 64, 67, 0.15);\n",
              "    fill: var(--button-hover-fill-color);\n",
              "  }\n",
              "\n",
              "  .colab-df-quickchart-complete:disabled,\n",
              "  .colab-df-quickchart-complete:disabled:hover {\n",
              "    background-color: var(--disabled-bg-color);\n",
              "    fill: var(--disabled-fill-color);\n",
              "    box-shadow: none;\n",
              "  }\n",
              "\n",
              "  .colab-df-spinner {\n",
              "    border: 2px solid var(--fill-color);\n",
              "    border-color: transparent;\n",
              "    border-bottom-color: var(--fill-color);\n",
              "    animation:\n",
              "      spin 1s steps(1) infinite;\n",
              "  }\n",
              "\n",
              "  @keyframes spin {\n",
              "    0% {\n",
              "      border-color: transparent;\n",
              "      border-bottom-color: var(--fill-color);\n",
              "      border-left-color: var(--fill-color);\n",
              "    }\n",
              "    20% {\n",
              "      border-color: transparent;\n",
              "      border-left-color: var(--fill-color);\n",
              "      border-top-color: var(--fill-color);\n",
              "    }\n",
              "    30% {\n",
              "      border-color: transparent;\n",
              "      border-left-color: var(--fill-color);\n",
              "      border-top-color: var(--fill-color);\n",
              "      border-right-color: var(--fill-color);\n",
              "    }\n",
              "    40% {\n",
              "      border-color: transparent;\n",
              "      border-right-color: var(--fill-color);\n",
              "      border-top-color: var(--fill-color);\n",
              "    }\n",
              "    60% {\n",
              "      border-color: transparent;\n",
              "      border-right-color: var(--fill-color);\n",
              "    }\n",
              "    80% {\n",
              "      border-color: transparent;\n",
              "      border-right-color: var(--fill-color);\n",
              "      border-bottom-color: var(--fill-color);\n",
              "    }\n",
              "    90% {\n",
              "      border-color: transparent;\n",
              "      border-bottom-color: var(--fill-color);\n",
              "    }\n",
              "  }\n",
              "</style>\n",
              "\n",
              "  <script>\n",
              "    async function quickchart(key) {\n",
              "      const quickchartButtonEl =\n",
              "        document.querySelector('#' + key + ' button');\n",
              "      quickchartButtonEl.disabled = true;  // To prevent multiple clicks.\n",
              "      quickchartButtonEl.classList.add('colab-df-spinner');\n",
              "      try {\n",
              "        const charts = await google.colab.kernel.invokeFunction(\n",
              "            'suggestCharts', [key], {});\n",
              "      } catch (error) {\n",
              "        console.error('Error during call to suggestCharts:', error);\n",
              "      }\n",
              "      quickchartButtonEl.classList.remove('colab-df-spinner');\n",
              "      quickchartButtonEl.classList.add('colab-df-quickchart-complete');\n",
              "    }\n",
              "    (() => {\n",
              "      let quickchartButtonEl =\n",
              "        document.querySelector('#df-0a0c7699-c91d-4821-b285-3668e29c2b49 button');\n",
              "      quickchartButtonEl.style.display =\n",
              "        google.colab.kernel.accessAllowed ? 'block' : 'none';\n",
              "    })();\n",
              "  </script>\n",
              "</div>\n",
              "    </div>\n",
              "  </div>\n"
            ]
          },
          "metadata": {},
          "execution_count": 56
        }
      ]
    },
    {
      "cell_type": "markdown",
      "source": [
        "Let's map the months to integers to have them more easily accessed."
      ],
      "metadata": {
        "id": "T9TpqduBd2wO"
      }
    },
    {
      "cell_type": "code",
      "source": [
        "month_mapping = {\n",
        "    'Jan': 1, 'Feb': 2, 'Mar': 3, 'Apr': 4, 'May': 5, 'Jun': 6,\n",
        "    'Jul': 7, 'Aug': 8, 'Sep': 9, 'Oct': 10, 'Nov': 11, 'Dec': 12\n",
        "}\n",
        "\n",
        "temperatures_df['Month'] = temperatures_df['Month'].map(month_mapping)"
      ],
      "metadata": {
        "id": "2PCRYhmUc5Ml"
      },
      "execution_count": 57,
      "outputs": []
    },
    {
      "cell_type": "code",
      "source": [
        "temperatures_df.head()"
      ],
      "metadata": {
        "colab": {
          "base_uri": "https://localhost:8080/",
          "height": 206
        },
        "id": "GxvFHdTNd7aW",
        "outputId": "8486f994-c6f9-40fa-84d7-ef371481f855"
      },
      "execution_count": 58,
      "outputs": [
        {
          "output_type": "execute_result",
          "data": {
            "text/plain": [
              "   Country         City Continent  Avg_Year  Month  Temperature\n",
              "0  Algeria      Algiers    Africa      17.4      1         11.2\n",
              "1  Algeria  Tamanrasset    Africa      21.7      1         12.8\n",
              "2  Algeria      Reggane    Africa      28.3      1         16.0\n",
              "3   Angola       Luanda    Africa      25.8      1         26.7\n",
              "4    Benin      Cotonou    Africa      27.2      1         27.3"
            ],
            "text/html": [
              "\n",
              "  <div id=\"df-02d5a170-4d4a-491a-8e4e-32aa7ae60eb7\" class=\"colab-df-container\">\n",
              "    <div>\n",
              "<style scoped>\n",
              "    .dataframe tbody tr th:only-of-type {\n",
              "        vertical-align: middle;\n",
              "    }\n",
              "\n",
              "    .dataframe tbody tr th {\n",
              "        vertical-align: top;\n",
              "    }\n",
              "\n",
              "    .dataframe thead th {\n",
              "        text-align: right;\n",
              "    }\n",
              "</style>\n",
              "<table border=\"1\" class=\"dataframe\">\n",
              "  <thead>\n",
              "    <tr style=\"text-align: right;\">\n",
              "      <th></th>\n",
              "      <th>Country</th>\n",
              "      <th>City</th>\n",
              "      <th>Continent</th>\n",
              "      <th>Avg_Year</th>\n",
              "      <th>Month</th>\n",
              "      <th>Temperature</th>\n",
              "    </tr>\n",
              "  </thead>\n",
              "  <tbody>\n",
              "    <tr>\n",
              "      <th>0</th>\n",
              "      <td>Algeria</td>\n",
              "      <td>Algiers</td>\n",
              "      <td>Africa</td>\n",
              "      <td>17.4</td>\n",
              "      <td>1</td>\n",
              "      <td>11.2</td>\n",
              "    </tr>\n",
              "    <tr>\n",
              "      <th>1</th>\n",
              "      <td>Algeria</td>\n",
              "      <td>Tamanrasset</td>\n",
              "      <td>Africa</td>\n",
              "      <td>21.7</td>\n",
              "      <td>1</td>\n",
              "      <td>12.8</td>\n",
              "    </tr>\n",
              "    <tr>\n",
              "      <th>2</th>\n",
              "      <td>Algeria</td>\n",
              "      <td>Reggane</td>\n",
              "      <td>Africa</td>\n",
              "      <td>28.3</td>\n",
              "      <td>1</td>\n",
              "      <td>16.0</td>\n",
              "    </tr>\n",
              "    <tr>\n",
              "      <th>3</th>\n",
              "      <td>Angola</td>\n",
              "      <td>Luanda</td>\n",
              "      <td>Africa</td>\n",
              "      <td>25.8</td>\n",
              "      <td>1</td>\n",
              "      <td>26.7</td>\n",
              "    </tr>\n",
              "    <tr>\n",
              "      <th>4</th>\n",
              "      <td>Benin</td>\n",
              "      <td>Cotonou</td>\n",
              "      <td>Africa</td>\n",
              "      <td>27.2</td>\n",
              "      <td>1</td>\n",
              "      <td>27.3</td>\n",
              "    </tr>\n",
              "  </tbody>\n",
              "</table>\n",
              "</div>\n",
              "    <div class=\"colab-df-buttons\">\n",
              "\n",
              "  <div class=\"colab-df-container\">\n",
              "    <button class=\"colab-df-convert\" onclick=\"convertToInteractive('df-02d5a170-4d4a-491a-8e4e-32aa7ae60eb7')\"\n",
              "            title=\"Convert this dataframe to an interactive table.\"\n",
              "            style=\"display:none;\">\n",
              "\n",
              "  <svg xmlns=\"http://www.w3.org/2000/svg\" height=\"24px\" viewBox=\"0 -960 960 960\">\n",
              "    <path d=\"M120-120v-720h720v720H120Zm60-500h600v-160H180v160Zm220 220h160v-160H400v160Zm0 220h160v-160H400v160ZM180-400h160v-160H180v160Zm440 0h160v-160H620v160ZM180-180h160v-160H180v160Zm440 0h160v-160H620v160Z\"/>\n",
              "  </svg>\n",
              "    </button>\n",
              "\n",
              "  <style>\n",
              "    .colab-df-container {\n",
              "      display:flex;\n",
              "      gap: 12px;\n",
              "    }\n",
              "\n",
              "    .colab-df-convert {\n",
              "      background-color: #E8F0FE;\n",
              "      border: none;\n",
              "      border-radius: 50%;\n",
              "      cursor: pointer;\n",
              "      display: none;\n",
              "      fill: #1967D2;\n",
              "      height: 32px;\n",
              "      padding: 0 0 0 0;\n",
              "      width: 32px;\n",
              "    }\n",
              "\n",
              "    .colab-df-convert:hover {\n",
              "      background-color: #E2EBFA;\n",
              "      box-shadow: 0px 1px 2px rgba(60, 64, 67, 0.3), 0px 1px 3px 1px rgba(60, 64, 67, 0.15);\n",
              "      fill: #174EA6;\n",
              "    }\n",
              "\n",
              "    .colab-df-buttons div {\n",
              "      margin-bottom: 4px;\n",
              "    }\n",
              "\n",
              "    [theme=dark] .colab-df-convert {\n",
              "      background-color: #3B4455;\n",
              "      fill: #D2E3FC;\n",
              "    }\n",
              "\n",
              "    [theme=dark] .colab-df-convert:hover {\n",
              "      background-color: #434B5C;\n",
              "      box-shadow: 0px 1px 3px 1px rgba(0, 0, 0, 0.15);\n",
              "      filter: drop-shadow(0px 1px 2px rgba(0, 0, 0, 0.3));\n",
              "      fill: #FFFFFF;\n",
              "    }\n",
              "  </style>\n",
              "\n",
              "    <script>\n",
              "      const buttonEl =\n",
              "        document.querySelector('#df-02d5a170-4d4a-491a-8e4e-32aa7ae60eb7 button.colab-df-convert');\n",
              "      buttonEl.style.display =\n",
              "        google.colab.kernel.accessAllowed ? 'block' : 'none';\n",
              "\n",
              "      async function convertToInteractive(key) {\n",
              "        const element = document.querySelector('#df-02d5a170-4d4a-491a-8e4e-32aa7ae60eb7');\n",
              "        const dataTable =\n",
              "          await google.colab.kernel.invokeFunction('convertToInteractive',\n",
              "                                                    [key], {});\n",
              "        if (!dataTable) return;\n",
              "\n",
              "        const docLinkHtml = 'Like what you see? Visit the ' +\n",
              "          '<a target=\"_blank\" href=https://colab.research.google.com/notebooks/data_table.ipynb>data table notebook</a>'\n",
              "          + ' to learn more about interactive tables.';\n",
              "        element.innerHTML = '';\n",
              "        dataTable['output_type'] = 'display_data';\n",
              "        await google.colab.output.renderOutput(dataTable, element);\n",
              "        const docLink = document.createElement('div');\n",
              "        docLink.innerHTML = docLinkHtml;\n",
              "        element.appendChild(docLink);\n",
              "      }\n",
              "    </script>\n",
              "  </div>\n",
              "\n",
              "\n",
              "<div id=\"df-f7824ac5-a7df-436b-93e3-730afb4a9bc6\">\n",
              "  <button class=\"colab-df-quickchart\" onclick=\"quickchart('df-f7824ac5-a7df-436b-93e3-730afb4a9bc6')\"\n",
              "            title=\"Suggest charts\"\n",
              "            style=\"display:none;\">\n",
              "\n",
              "<svg xmlns=\"http://www.w3.org/2000/svg\" height=\"24px\"viewBox=\"0 0 24 24\"\n",
              "     width=\"24px\">\n",
              "    <g>\n",
              "        <path d=\"M19 3H5c-1.1 0-2 .9-2 2v14c0 1.1.9 2 2 2h14c1.1 0 2-.9 2-2V5c0-1.1-.9-2-2-2zM9 17H7v-7h2v7zm4 0h-2V7h2v10zm4 0h-2v-4h2v4z\"/>\n",
              "    </g>\n",
              "</svg>\n",
              "  </button>\n",
              "\n",
              "<style>\n",
              "  .colab-df-quickchart {\n",
              "      --bg-color: #E8F0FE;\n",
              "      --fill-color: #1967D2;\n",
              "      --hover-bg-color: #E2EBFA;\n",
              "      --hover-fill-color: #174EA6;\n",
              "      --disabled-fill-color: #AAA;\n",
              "      --disabled-bg-color: #DDD;\n",
              "  }\n",
              "\n",
              "  [theme=dark] .colab-df-quickchart {\n",
              "      --bg-color: #3B4455;\n",
              "      --fill-color: #D2E3FC;\n",
              "      --hover-bg-color: #434B5C;\n",
              "      --hover-fill-color: #FFFFFF;\n",
              "      --disabled-bg-color: #3B4455;\n",
              "      --disabled-fill-color: #666;\n",
              "  }\n",
              "\n",
              "  .colab-df-quickchart {\n",
              "    background-color: var(--bg-color);\n",
              "    border: none;\n",
              "    border-radius: 50%;\n",
              "    cursor: pointer;\n",
              "    display: none;\n",
              "    fill: var(--fill-color);\n",
              "    height: 32px;\n",
              "    padding: 0;\n",
              "    width: 32px;\n",
              "  }\n",
              "\n",
              "  .colab-df-quickchart:hover {\n",
              "    background-color: var(--hover-bg-color);\n",
              "    box-shadow: 0 1px 2px rgba(60, 64, 67, 0.3), 0 1px 3px 1px rgba(60, 64, 67, 0.15);\n",
              "    fill: var(--button-hover-fill-color);\n",
              "  }\n",
              "\n",
              "  .colab-df-quickchart-complete:disabled,\n",
              "  .colab-df-quickchart-complete:disabled:hover {\n",
              "    background-color: var(--disabled-bg-color);\n",
              "    fill: var(--disabled-fill-color);\n",
              "    box-shadow: none;\n",
              "  }\n",
              "\n",
              "  .colab-df-spinner {\n",
              "    border: 2px solid var(--fill-color);\n",
              "    border-color: transparent;\n",
              "    border-bottom-color: var(--fill-color);\n",
              "    animation:\n",
              "      spin 1s steps(1) infinite;\n",
              "  }\n",
              "\n",
              "  @keyframes spin {\n",
              "    0% {\n",
              "      border-color: transparent;\n",
              "      border-bottom-color: var(--fill-color);\n",
              "      border-left-color: var(--fill-color);\n",
              "    }\n",
              "    20% {\n",
              "      border-color: transparent;\n",
              "      border-left-color: var(--fill-color);\n",
              "      border-top-color: var(--fill-color);\n",
              "    }\n",
              "    30% {\n",
              "      border-color: transparent;\n",
              "      border-left-color: var(--fill-color);\n",
              "      border-top-color: var(--fill-color);\n",
              "      border-right-color: var(--fill-color);\n",
              "    }\n",
              "    40% {\n",
              "      border-color: transparent;\n",
              "      border-right-color: var(--fill-color);\n",
              "      border-top-color: var(--fill-color);\n",
              "    }\n",
              "    60% {\n",
              "      border-color: transparent;\n",
              "      border-right-color: var(--fill-color);\n",
              "    }\n",
              "    80% {\n",
              "      border-color: transparent;\n",
              "      border-right-color: var(--fill-color);\n",
              "      border-bottom-color: var(--fill-color);\n",
              "    }\n",
              "    90% {\n",
              "      border-color: transparent;\n",
              "      border-bottom-color: var(--fill-color);\n",
              "    }\n",
              "  }\n",
              "</style>\n",
              "\n",
              "  <script>\n",
              "    async function quickchart(key) {\n",
              "      const quickchartButtonEl =\n",
              "        document.querySelector('#' + key + ' button');\n",
              "      quickchartButtonEl.disabled = true;  // To prevent multiple clicks.\n",
              "      quickchartButtonEl.classList.add('colab-df-spinner');\n",
              "      try {\n",
              "        const charts = await google.colab.kernel.invokeFunction(\n",
              "            'suggestCharts', [key], {});\n",
              "      } catch (error) {\n",
              "        console.error('Error during call to suggestCharts:', error);\n",
              "      }\n",
              "      quickchartButtonEl.classList.remove('colab-df-spinner');\n",
              "      quickchartButtonEl.classList.add('colab-df-quickchart-complete');\n",
              "    }\n",
              "    (() => {\n",
              "      let quickchartButtonEl =\n",
              "        document.querySelector('#df-f7824ac5-a7df-436b-93e3-730afb4a9bc6 button');\n",
              "      quickchartButtonEl.style.display =\n",
              "        google.colab.kernel.accessAllowed ? 'block' : 'none';\n",
              "    })();\n",
              "  </script>\n",
              "</div>\n",
              "    </div>\n",
              "  </div>\n"
            ]
          },
          "metadata": {},
          "execution_count": 58
        }
      ]
    },
    {
      "cell_type": "markdown",
      "source": [
        "This is a much easier dataframe to work it, we can now convert it to a csv and use it in our database."
      ],
      "metadata": {
        "id": "RHQQBaX3eEzG"
      }
    },
    {
      "cell_type": "code",
      "source": [
        "temperatures_df.to_csv('temperatures.csv', index=False)"
      ],
      "metadata": {
        "id": "1GQYtepUd-Ic"
      },
      "execution_count": 59,
      "outputs": []
    }
  ],
  "metadata": {
    "language_info": {
      "name": "python"
    },
    "colab": {
      "provenance": []
    },
    "kernelspec": {
      "name": "python3",
      "display_name": "Python 3"
    }
  },
  "nbformat": 4,
  "nbformat_minor": 0
}